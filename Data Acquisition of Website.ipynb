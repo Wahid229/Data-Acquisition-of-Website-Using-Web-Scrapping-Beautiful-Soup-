{
  "cells": [
    {
      "cell_type": "markdown",
      "metadata": {
        "id": "NS4UW4B24jbc"
      },
      "source": [
        "#Data Acquisition"
      ]
    },
    {
      "cell_type": "markdown",
      "metadata": {
        "id": "gUZ5PBCn9hOc"
      },
      "source": [
        "Flipkart Website is Web Scarpped using BeautifulSoup and the list of mobile phones is taken from the scarpping ,and the whole data is stored in  a.csv file"
      ]
    },
    {
      "cell_type": "code",
      "execution_count": null,
      "metadata": {
        "id": "SXSqbhx30QXl"
      },
      "outputs": [],
      "source": [
        "import requests\n",
        "from bs4 import BeautifulSoup\n",
        "from csv import writer\n",
        "import pandas"
      ]
    },
    {
      "cell_type": "markdown",
      "metadata": {
        "id": "fimJ079G-_rN"
      },
      "source": [
        "Taking the url from the Flipkart (Mobile Searching)"
      ]
    },
    {
      "cell_type": "code",
      "execution_count": null,
      "metadata": {
        "id": "oTvowBKE5DN3"
      },
      "outputs": [],
      "source": [
        "url=\"https://www.flipkart.com/search?q=mobiles&sid=tyy%2C4io&as=on&as-show=on&otracker=AS_QueryStore_OrganicAutoSuggest_2_7_na_na_na&otracker1=AS_QueryStore_OrganicAutoSuggest_2_7_na_na_na&as-pos=2&as-type=RECENT&suggestionId=mobiles%7CMobiles&requestId=8cc7fba1-3802-4aa8-9fd1-a56eba04e23d&as-searchtext=mobiles&p%5B%5D=facets.rating%255B%255D%3D4%25E2%2598%2585%2B%2526%2Babove&p%5B%5D=facets.price_range.from%3D7000&p%5B%5D=facets.price_range.to%3D13000&p%5B%5D=facets.availability%255B%255D%3DExclude%2BOut%2Bof%2BStock&p%5B%5D=facets.ram%255B%255D%3D4%2BGB&p%5B%5D=facets.ram%255B%255D%3D3%2BGB&page=\""
      ]
    },
    {
      "cell_type": "markdown",
      "metadata": {
        "id": "zwIFDm6a-nFk"
      },
      "source": [
        "Finding the Page Response"
      ]
    },
    {
      "cell_type": "code",
      "execution_count": null,
      "metadata": {
        "colab": {
          "base_uri": "https://localhost:8080/"
        },
        "id": "yDgsb7F6tdyL",
        "outputId": "7f80a242-13fa-4e49-e9bb-2f6682f9dcbd"
      },
      "outputs": [
        {
          "data": {
            "text/plain": [
              "<Response [200]>"
            ]
          },
          "execution_count": 15,
          "metadata": {},
          "output_type": "execute_result"
        }
      ],
      "source": [
        "page=requests.get(url)\n",
        "page"
      ]
    },
    {
      "cell_type": "markdown",
      "metadata": {
        "id": "n_cvDPLZt2NN"
      },
      "source": [
        "To Find the Number of Pages"
      ]
    },
    {
      "cell_type": "code",
      "execution_count": null,
      "metadata": {
        "colab": {
          "base_uri": "https://localhost:8080/"
        },
        "id": "oS04x1Aot7Ht",
        "outputId": "2475de42-2cda-4b98-ca24-825d6678cf3e"
      },
      "outputs": [
        {
          "data": {
            "text/plain": [
              "20"
            ]
          },
          "execution_count": 16,
          "metadata": {},
          "output_type": "execute_result"
        }
      ],
      "source": [
        "soup=BeautifulSoup(page.content,'html.parser')#using BeautifulSoup\n",
        "num_of_pages=int(soup.find('div',class_=\"_2MImiq\").text.replace('12345678910Next','').replace('Page 1 of ',''))\n",
        "num_of_pages"
      ]
    },
    {
      "cell_type": "markdown",
      "metadata": {
        "id": "5tekC5rg5uU_"
      },
      "source": [
        "Adding a Loop to get the information of all the pages"
      ]
    },
    {
      "cell_type": "code",
      "execution_count": null,
      "metadata": {
        "id": "8pVafI-gvdD9"
      },
      "outputs": [],
      "source": [
        "list1=[]\n",
        "for i in range(1,num_of_pages+1):\n",
        "  url1=url+str(i)\n",
        "  page=requests.get(url1)\n",
        "  soup=BeautifulSoup(page.content,'html.parser')\n",
        "  lists=soup.find_all('a',class_=\"_1fQZEK\")\n",
        "  list1.append(lists)\n"
      ]
    },
    {
      "cell_type": "markdown",
      "metadata": {
        "id": "vv-CtcVZ6BQH"
      },
      "source": [
        "Adding a Loop to get the information from each page "
      ]
    },
    {
      "cell_type": "code",
      "execution_count": null,
      "metadata": {
        "id": "wnXpXzopwGaf"
      },
      "outputs": [],
      "source": [
        "info1=[]\n",
        "for i in range(num_of_pages):\n",
        "    items=list1[i]\n",
        "    for item in items:\n",
        "      record={}\n",
        "      record['Mobile Name']=item.find('div',class_=\"_4rR01T\").text.split('(')[0]\n",
        "      record['Color']=item.find('div',class_=\"_4rR01T\").text.split('(')[-1].split(',')[-0]\n",
        "      record['Storage']=item.find('div',class_=\"_4rR01T\").text.split('(')[-1].split(',')[-1].replace(')','')\n",
        "      record['Rating']=float(item.find('div',class_=\"_3LWZlK\").text)\n",
        "      record['Price']=int(item.find('div',class_=\"_30jeq3 _1_WHN1\").text.replace('₹','').replace(',',''))\n",
        "      info1.append(record)"
      ]
    },
    {
      "cell_type": "markdown",
      "metadata": {
        "id": "gbtX4R5O7Cyk"
      },
      "source": [
        "Finding The Number of Results"
      ]
    },
    {
      "cell_type": "code",
      "execution_count": null,
      "metadata": {
        "colab": {
          "base_uri": "https://localhost:8080/"
        },
        "id": "CgrREn0JyCOu",
        "outputId": "98e6cd62-1ffa-4a13-d3c9-768b3582031d"
      },
      "outputs": [
        {
          "data": {
            "text/plain": [
              "421"
            ]
          },
          "execution_count": 23,
          "metadata": {},
          "output_type": "execute_result"
        }
      ],
      "source": [
        "len(info1)"
      ]
    },
    {
      "cell_type": "markdown",
      "metadata": {
        "id": "t13qKNPh8FvG"
      },
      "source": [
        "Coverting the data into DataFrame"
      ]
    },
    {
      "cell_type": "code",
      "execution_count": null,
      "metadata": {
        "id": "1-tXX4UXyDmd"
      },
      "outputs": [],
      "source": [
        "import pandas as pd\n",
        "mobiledf=pd.json_normalize(info1)"
      ]
    },
    {
      "cell_type": "markdown",
      "metadata": {
        "id": "jpA80byN8sVf"
      },
      "source": [
        "Displaying The Data Frame(mobiledf)"
      ]
    },
    {
      "cell_type": "code",
      "execution_count": null,
      "metadata": {
        "colab": {
          "base_uri": "https://localhost:8080/",
          "height": 423
        },
        "id": "5GQlZDVj1tJG",
        "outputId": "f54ff3b8-8f6c-49de-ee05-3c0a7a87e302"
      },
      "outputs": [
        {
          "data": {
            "text/html": [
              "\n",
              "  <div id=\"df-04f17e01-12a5-4a94-bb86-befbdb45d0a2\">\n",
              "    <div class=\"colab-df-container\">\n",
              "      <div>\n",
              "<style scoped>\n",
              "    .dataframe tbody tr th:only-of-type {\n",
              "        vertical-align: middle;\n",
              "    }\n",
              "\n",
              "    .dataframe tbody tr th {\n",
              "        vertical-align: top;\n",
              "    }\n",
              "\n",
              "    .dataframe thead th {\n",
              "        text-align: right;\n",
              "    }\n",
              "</style>\n",
              "<table border=\"1\" class=\"dataframe\">\n",
              "  <thead>\n",
              "    <tr style=\"text-align: right;\">\n",
              "      <th></th>\n",
              "      <th>Mobile Name</th>\n",
              "      <th>Color</th>\n",
              "      <th>Storage</th>\n",
              "      <th>Rating</th>\n",
              "      <th>Price</th>\n",
              "    </tr>\n",
              "  </thead>\n",
              "  <tbody>\n",
              "    <tr>\n",
              "      <th>0</th>\n",
              "      <td>POCO C31</td>\n",
              "      <td>Royal Blue</td>\n",
              "      <td>64 GB</td>\n",
              "      <td>4.4</td>\n",
              "      <td>9499</td>\n",
              "    </tr>\n",
              "    <tr>\n",
              "      <th>1</th>\n",
              "      <td>REDMI 9i Sport</td>\n",
              "      <td>Metallic Blue</td>\n",
              "      <td>64 GB</td>\n",
              "      <td>4.4</td>\n",
              "      <td>8999</td>\n",
              "    </tr>\n",
              "    <tr>\n",
              "      <th>2</th>\n",
              "      <td>SAMSUNG Galaxy F12</td>\n",
              "      <td>Sea Green</td>\n",
              "      <td>64 GB</td>\n",
              "      <td>4.3</td>\n",
              "      <td>11499</td>\n",
              "    </tr>\n",
              "    <tr>\n",
              "      <th>3</th>\n",
              "      <td>POCO C31</td>\n",
              "      <td>Shadow Gray</td>\n",
              "      <td>64 GB</td>\n",
              "      <td>4.4</td>\n",
              "      <td>9599</td>\n",
              "    </tr>\n",
              "    <tr>\n",
              "      <th>4</th>\n",
              "      <td>realme C25Y</td>\n",
              "      <td>Glacier Blue</td>\n",
              "      <td>64 GB</td>\n",
              "      <td>4.5</td>\n",
              "      <td>10999</td>\n",
              "    </tr>\n",
              "    <tr>\n",
              "      <th>...</th>\n",
              "      <td>...</td>\n",
              "      <td>...</td>\n",
              "      <td>...</td>\n",
              "      <td>...</td>\n",
              "      <td>...</td>\n",
              "    </tr>\n",
              "    <tr>\n",
              "      <th>416</th>\n",
              "      <td>Redmi Note 5</td>\n",
              "      <td>Black</td>\n",
              "      <td>64 GB</td>\n",
              "      <td>4.4</td>\n",
              "      <td>11999</td>\n",
              "    </tr>\n",
              "    <tr>\n",
              "      <th>417</th>\n",
              "      <td>Redmi 6 Pro</td>\n",
              "      <td>Red</td>\n",
              "      <td>32 GB</td>\n",
              "      <td>4.3</td>\n",
              "      <td>7999</td>\n",
              "    </tr>\n",
              "    <tr>\n",
              "      <th>418</th>\n",
              "      <td>Infinix Smart 4 Plus</td>\n",
              "      <td>Midnight Black</td>\n",
              "      <td>32 GB</td>\n",
              "      <td>4.4</td>\n",
              "      <td>9999</td>\n",
              "    </tr>\n",
              "    <tr>\n",
              "      <th>419</th>\n",
              "      <td>vivo Y81</td>\n",
              "      <td>Gold</td>\n",
              "      <td>32 GB</td>\n",
              "      <td>4.4</td>\n",
              "      <td>13000</td>\n",
              "    </tr>\n",
              "    <tr>\n",
              "      <th>420</th>\n",
              "      <td>Redmi 6 Pro</td>\n",
              "      <td>Lake Blue</td>\n",
              "      <td>32 GB</td>\n",
              "      <td>4.3</td>\n",
              "      <td>8990</td>\n",
              "    </tr>\n",
              "  </tbody>\n",
              "</table>\n",
              "<p>421 rows × 5 columns</p>\n",
              "</div>\n",
              "      <button class=\"colab-df-convert\" onclick=\"convertToInteractive('df-04f17e01-12a5-4a94-bb86-befbdb45d0a2')\"\n",
              "              title=\"Convert this dataframe to an interactive table.\"\n",
              "              style=\"display:none;\">\n",
              "        \n",
              "  <svg xmlns=\"http://www.w3.org/2000/svg\" height=\"24px\"viewBox=\"0 0 24 24\"\n",
              "       width=\"24px\">\n",
              "    <path d=\"M0 0h24v24H0V0z\" fill=\"none\"/>\n",
              "    <path d=\"M18.56 5.44l.94 2.06.94-2.06 2.06-.94-2.06-.94-.94-2.06-.94 2.06-2.06.94zm-11 1L8.5 8.5l.94-2.06 2.06-.94-2.06-.94L8.5 2.5l-.94 2.06-2.06.94zm10 10l.94 2.06.94-2.06 2.06-.94-2.06-.94-.94-2.06-.94 2.06-2.06.94z\"/><path d=\"M17.41 7.96l-1.37-1.37c-.4-.4-.92-.59-1.43-.59-.52 0-1.04.2-1.43.59L10.3 9.45l-7.72 7.72c-.78.78-.78 2.05 0 2.83L4 21.41c.39.39.9.59 1.41.59.51 0 1.02-.2 1.41-.59l7.78-7.78 2.81-2.81c.8-.78.8-2.07 0-2.86zM5.41 20L4 18.59l7.72-7.72 1.47 1.35L5.41 20z\"/>\n",
              "  </svg>\n",
              "      </button>\n",
              "      \n",
              "  <style>\n",
              "    .colab-df-container {\n",
              "      display:flex;\n",
              "      flex-wrap:wrap;\n",
              "      gap: 12px;\n",
              "    }\n",
              "\n",
              "    .colab-df-convert {\n",
              "      background-color: #E8F0FE;\n",
              "      border: none;\n",
              "      border-radius: 50%;\n",
              "      cursor: pointer;\n",
              "      display: none;\n",
              "      fill: #1967D2;\n",
              "      height: 32px;\n",
              "      padding: 0 0 0 0;\n",
              "      width: 32px;\n",
              "    }\n",
              "\n",
              "    .colab-df-convert:hover {\n",
              "      background-color: #E2EBFA;\n",
              "      box-shadow: 0px 1px 2px rgba(60, 64, 67, 0.3), 0px 1px 3px 1px rgba(60, 64, 67, 0.15);\n",
              "      fill: #174EA6;\n",
              "    }\n",
              "\n",
              "    [theme=dark] .colab-df-convert {\n",
              "      background-color: #3B4455;\n",
              "      fill: #D2E3FC;\n",
              "    }\n",
              "\n",
              "    [theme=dark] .colab-df-convert:hover {\n",
              "      background-color: #434B5C;\n",
              "      box-shadow: 0px 1px 3px 1px rgba(0, 0, 0, 0.15);\n",
              "      filter: drop-shadow(0px 1px 2px rgba(0, 0, 0, 0.3));\n",
              "      fill: #FFFFFF;\n",
              "    }\n",
              "  </style>\n",
              "\n",
              "      <script>\n",
              "        const buttonEl =\n",
              "          document.querySelector('#df-04f17e01-12a5-4a94-bb86-befbdb45d0a2 button.colab-df-convert');\n",
              "        buttonEl.style.display =\n",
              "          google.colab.kernel.accessAllowed ? 'block' : 'none';\n",
              "\n",
              "        async function convertToInteractive(key) {\n",
              "          const element = document.querySelector('#df-04f17e01-12a5-4a94-bb86-befbdb45d0a2');\n",
              "          const dataTable =\n",
              "            await google.colab.kernel.invokeFunction('convertToInteractive',\n",
              "                                                     [key], {});\n",
              "          if (!dataTable) return;\n",
              "\n",
              "          const docLinkHtml = 'Like what you see? Visit the ' +\n",
              "            '<a target=\"_blank\" href=https://colab.research.google.com/notebooks/data_table.ipynb>data table notebook</a>'\n",
              "            + ' to learn more about interactive tables.';\n",
              "          element.innerHTML = '';\n",
              "          dataTable['output_type'] = 'display_data';\n",
              "          await google.colab.output.renderOutput(dataTable, element);\n",
              "          const docLink = document.createElement('div');\n",
              "          docLink.innerHTML = docLinkHtml;\n",
              "          element.appendChild(docLink);\n",
              "        }\n",
              "      </script>\n",
              "    </div>\n",
              "  </div>\n",
              "  "
            ],
            "text/plain": [
              "               Mobile Name           Color Storage  Rating  Price\n",
              "0                POCO C31       Royal Blue   64 GB     4.4   9499\n",
              "1          REDMI 9i Sport    Metallic Blue   64 GB     4.4   8999\n",
              "2      SAMSUNG Galaxy F12        Sea Green   64 GB     4.3  11499\n",
              "3                POCO C31      Shadow Gray   64 GB     4.4   9599\n",
              "4             realme C25Y     Glacier Blue   64 GB     4.5  10999\n",
              "..                     ...             ...     ...     ...    ...\n",
              "416          Redmi Note 5            Black   64 GB     4.4  11999\n",
              "417           Redmi 6 Pro              Red   32 GB     4.3   7999\n",
              "418  Infinix Smart 4 Plus   Midnight Black   32 GB     4.4   9999\n",
              "419              vivo Y81             Gold   32 GB     4.4  13000\n",
              "420           Redmi 6 Pro        Lake Blue   32 GB     4.3   8990\n",
              "\n",
              "[421 rows x 5 columns]"
            ]
          },
          "execution_count": 25,
          "metadata": {},
          "output_type": "execute_result"
        }
      ],
      "source": [
        "mobiledf"
      ]
    },
    {
      "cell_type": "markdown",
      "metadata": {
        "id": "x4Lw0zpp8yVD"
      },
      "source": [
        "Finding the mobile phone which are above Rs 11500"
      ]
    },
    {
      "cell_type": "code",
      "execution_count": null,
      "metadata": {
        "colab": {
          "base_uri": "https://localhost:8080/",
          "height": 423
        },
        "id": "4LeYyMzY19qn",
        "outputId": "def30990-46fa-44e1-e199-25649f7f7165"
      },
      "outputs": [
        {
          "data": {
            "text/html": [
              "\n",
              "  <div id=\"df-4660d8c0-802e-4c7a-936b-8def0d1cc3bb\">\n",
              "    <div class=\"colab-df-container\">\n",
              "      <div>\n",
              "<style scoped>\n",
              "    .dataframe tbody tr th:only-of-type {\n",
              "        vertical-align: middle;\n",
              "    }\n",
              "\n",
              "    .dataframe tbody tr th {\n",
              "        vertical-align: top;\n",
              "    }\n",
              "\n",
              "    .dataframe thead th {\n",
              "        text-align: right;\n",
              "    }\n",
              "</style>\n",
              "<table border=\"1\" class=\"dataframe\">\n",
              "  <thead>\n",
              "    <tr style=\"text-align: right;\">\n",
              "      <th></th>\n",
              "      <th>Mobile Name</th>\n",
              "      <th>Color</th>\n",
              "      <th>Storage</th>\n",
              "      <th>Rating</th>\n",
              "      <th>Price</th>\n",
              "    </tr>\n",
              "  </thead>\n",
              "  <tbody>\n",
              "    <tr>\n",
              "      <th>5</th>\n",
              "      <td>realme C35</td>\n",
              "      <td>Glowing Black</td>\n",
              "      <td>64 GB</td>\n",
              "      <td>4.4</td>\n",
              "      <td>11999</td>\n",
              "    </tr>\n",
              "    <tr>\n",
              "      <th>7</th>\n",
              "      <td>realme 9i</td>\n",
              "      <td>Prism Black</td>\n",
              "      <td>64 GB</td>\n",
              "      <td>4.5</td>\n",
              "      <td>12999</td>\n",
              "    </tr>\n",
              "    <tr>\n",
              "      <th>12</th>\n",
              "      <td>realme 9i</td>\n",
              "      <td>Prism Blue</td>\n",
              "      <td>64 GB</td>\n",
              "      <td>4.5</td>\n",
              "      <td>12999</td>\n",
              "    </tr>\n",
              "    <tr>\n",
              "      <th>13</th>\n",
              "      <td>REDMI Note 10T 5G</td>\n",
              "      <td>Metallic Blue</td>\n",
              "      <td>64 GB</td>\n",
              "      <td>4.4</td>\n",
              "      <td>12999</td>\n",
              "    </tr>\n",
              "    <tr>\n",
              "      <th>14</th>\n",
              "      <td>realme C35</td>\n",
              "      <td>Glowing Green</td>\n",
              "      <td>128 GB</td>\n",
              "      <td>4.4</td>\n",
              "      <td>12999</td>\n",
              "    </tr>\n",
              "    <tr>\n",
              "      <th>...</th>\n",
              "      <td>...</td>\n",
              "      <td>...</td>\n",
              "      <td>...</td>\n",
              "      <td>...</td>\n",
              "      <td>...</td>\n",
              "    </tr>\n",
              "    <tr>\n",
              "      <th>411</th>\n",
              "      <td>Lenovo K8 Plus</td>\n",
              "      <td>Fine Gold</td>\n",
              "      <td>32 GB</td>\n",
              "      <td>4.1</td>\n",
              "      <td>11999</td>\n",
              "    </tr>\n",
              "    <tr>\n",
              "      <th>414</th>\n",
              "      <td>Infinix Hot 9</td>\n",
              "      <td>Violet</td>\n",
              "      <td>64 GB</td>\n",
              "      <td>4.4</td>\n",
              "      <td>11999</td>\n",
              "    </tr>\n",
              "    <tr>\n",
              "      <th>415</th>\n",
              "      <td>Nokia 3.2</td>\n",
              "      <td>Black</td>\n",
              "      <td>32 GB</td>\n",
              "      <td>4.1</td>\n",
              "      <td>13000</td>\n",
              "    </tr>\n",
              "    <tr>\n",
              "      <th>416</th>\n",
              "      <td>Redmi Note 5</td>\n",
              "      <td>Black</td>\n",
              "      <td>64 GB</td>\n",
              "      <td>4.4</td>\n",
              "      <td>11999</td>\n",
              "    </tr>\n",
              "    <tr>\n",
              "      <th>419</th>\n",
              "      <td>vivo Y81</td>\n",
              "      <td>Gold</td>\n",
              "      <td>32 GB</td>\n",
              "      <td>4.4</td>\n",
              "      <td>13000</td>\n",
              "    </tr>\n",
              "  </tbody>\n",
              "</table>\n",
              "<p>139 rows × 5 columns</p>\n",
              "</div>\n",
              "      <button class=\"colab-df-convert\" onclick=\"convertToInteractive('df-4660d8c0-802e-4c7a-936b-8def0d1cc3bb')\"\n",
              "              title=\"Convert this dataframe to an interactive table.\"\n",
              "              style=\"display:none;\">\n",
              "        \n",
              "  <svg xmlns=\"http://www.w3.org/2000/svg\" height=\"24px\"viewBox=\"0 0 24 24\"\n",
              "       width=\"24px\">\n",
              "    <path d=\"M0 0h24v24H0V0z\" fill=\"none\"/>\n",
              "    <path d=\"M18.56 5.44l.94 2.06.94-2.06 2.06-.94-2.06-.94-.94-2.06-.94 2.06-2.06.94zm-11 1L8.5 8.5l.94-2.06 2.06-.94-2.06-.94L8.5 2.5l-.94 2.06-2.06.94zm10 10l.94 2.06.94-2.06 2.06-.94-2.06-.94-.94-2.06-.94 2.06-2.06.94z\"/><path d=\"M17.41 7.96l-1.37-1.37c-.4-.4-.92-.59-1.43-.59-.52 0-1.04.2-1.43.59L10.3 9.45l-7.72 7.72c-.78.78-.78 2.05 0 2.83L4 21.41c.39.39.9.59 1.41.59.51 0 1.02-.2 1.41-.59l7.78-7.78 2.81-2.81c.8-.78.8-2.07 0-2.86zM5.41 20L4 18.59l7.72-7.72 1.47 1.35L5.41 20z\"/>\n",
              "  </svg>\n",
              "      </button>\n",
              "      \n",
              "  <style>\n",
              "    .colab-df-container {\n",
              "      display:flex;\n",
              "      flex-wrap:wrap;\n",
              "      gap: 12px;\n",
              "    }\n",
              "\n",
              "    .colab-df-convert {\n",
              "      background-color: #E8F0FE;\n",
              "      border: none;\n",
              "      border-radius: 50%;\n",
              "      cursor: pointer;\n",
              "      display: none;\n",
              "      fill: #1967D2;\n",
              "      height: 32px;\n",
              "      padding: 0 0 0 0;\n",
              "      width: 32px;\n",
              "    }\n",
              "\n",
              "    .colab-df-convert:hover {\n",
              "      background-color: #E2EBFA;\n",
              "      box-shadow: 0px 1px 2px rgba(60, 64, 67, 0.3), 0px 1px 3px 1px rgba(60, 64, 67, 0.15);\n",
              "      fill: #174EA6;\n",
              "    }\n",
              "\n",
              "    [theme=dark] .colab-df-convert {\n",
              "      background-color: #3B4455;\n",
              "      fill: #D2E3FC;\n",
              "    }\n",
              "\n",
              "    [theme=dark] .colab-df-convert:hover {\n",
              "      background-color: #434B5C;\n",
              "      box-shadow: 0px 1px 3px 1px rgba(0, 0, 0, 0.15);\n",
              "      filter: drop-shadow(0px 1px 2px rgba(0, 0, 0, 0.3));\n",
              "      fill: #FFFFFF;\n",
              "    }\n",
              "  </style>\n",
              "\n",
              "      <script>\n",
              "        const buttonEl =\n",
              "          document.querySelector('#df-4660d8c0-802e-4c7a-936b-8def0d1cc3bb button.colab-df-convert');\n",
              "        buttonEl.style.display =\n",
              "          google.colab.kernel.accessAllowed ? 'block' : 'none';\n",
              "\n",
              "        async function convertToInteractive(key) {\n",
              "          const element = document.querySelector('#df-4660d8c0-802e-4c7a-936b-8def0d1cc3bb');\n",
              "          const dataTable =\n",
              "            await google.colab.kernel.invokeFunction('convertToInteractive',\n",
              "                                                     [key], {});\n",
              "          if (!dataTable) return;\n",
              "\n",
              "          const docLinkHtml = 'Like what you see? Visit the ' +\n",
              "            '<a target=\"_blank\" href=https://colab.research.google.com/notebooks/data_table.ipynb>data table notebook</a>'\n",
              "            + ' to learn more about interactive tables.';\n",
              "          element.innerHTML = '';\n",
              "          dataTable['output_type'] = 'display_data';\n",
              "          await google.colab.output.renderOutput(dataTable, element);\n",
              "          const docLink = document.createElement('div');\n",
              "          docLink.innerHTML = docLinkHtml;\n",
              "          element.appendChild(docLink);\n",
              "        }\n",
              "      </script>\n",
              "    </div>\n",
              "  </div>\n",
              "  "
            ],
            "text/plain": [
              "            Mobile Name          Color  Storage  Rating  Price\n",
              "5           realme C35   Glowing Black    64 GB     4.4  11999\n",
              "7            realme 9i     Prism Black    64 GB     4.5  12999\n",
              "12           realme 9i      Prism Blue    64 GB     4.5  12999\n",
              "13   REDMI Note 10T 5G   Metallic Blue    64 GB     4.4  12999\n",
              "14          realme C35   Glowing Green   128 GB     4.4  12999\n",
              "..                  ...            ...      ...     ...    ...\n",
              "411     Lenovo K8 Plus       Fine Gold    32 GB     4.1  11999\n",
              "414      Infinix Hot 9          Violet    64 GB     4.4  11999\n",
              "415          Nokia 3.2           Black    32 GB     4.1  13000\n",
              "416       Redmi Note 5           Black    64 GB     4.4  11999\n",
              "419           vivo Y81            Gold    32 GB     4.4  13000\n",
              "\n",
              "[139 rows x 5 columns]"
            ]
          },
          "execution_count": 26,
          "metadata": {},
          "output_type": "execute_result"
        }
      ],
      "source": [
        "mobiledf[mobiledf['Price']>11500]"
      ]
    },
    {
      "cell_type": "markdown",
      "metadata": {
        "id": "p_2cnEpn9LTo"
      },
      "source": [
        "Finding the mobile phone which are above Rating 4.3"
      ]
    },
    {
      "cell_type": "code",
      "execution_count": null,
      "metadata": {
        "colab": {
          "base_uri": "https://localhost:8080/",
          "height": 423
        },
        "id": "NHrqjgju2AMe",
        "outputId": "6eec5eea-420c-4dad-cfc3-0b47ea1e6678"
      },
      "outputs": [
        {
          "data": {
            "text/html": [
              "\n",
              "  <div id=\"df-b34d857e-9153-4209-804f-31229e3dddfd\">\n",
              "    <div class=\"colab-df-container\">\n",
              "      <div>\n",
              "<style scoped>\n",
              "    .dataframe tbody tr th:only-of-type {\n",
              "        vertical-align: middle;\n",
              "    }\n",
              "\n",
              "    .dataframe tbody tr th {\n",
              "        vertical-align: top;\n",
              "    }\n",
              "\n",
              "    .dataframe thead th {\n",
              "        text-align: right;\n",
              "    }\n",
              "</style>\n",
              "<table border=\"1\" class=\"dataframe\">\n",
              "  <thead>\n",
              "    <tr style=\"text-align: right;\">\n",
              "      <th></th>\n",
              "      <th>Mobile Name</th>\n",
              "      <th>Color</th>\n",
              "      <th>Storage</th>\n",
              "      <th>Rating</th>\n",
              "      <th>Price</th>\n",
              "    </tr>\n",
              "  </thead>\n",
              "  <tbody>\n",
              "    <tr>\n",
              "      <th>0</th>\n",
              "      <td>POCO C31</td>\n",
              "      <td>Royal Blue</td>\n",
              "      <td>64 GB</td>\n",
              "      <td>4.4</td>\n",
              "      <td>9499</td>\n",
              "    </tr>\n",
              "    <tr>\n",
              "      <th>1</th>\n",
              "      <td>REDMI 9i Sport</td>\n",
              "      <td>Metallic Blue</td>\n",
              "      <td>64 GB</td>\n",
              "      <td>4.4</td>\n",
              "      <td>8999</td>\n",
              "    </tr>\n",
              "    <tr>\n",
              "      <th>3</th>\n",
              "      <td>POCO C31</td>\n",
              "      <td>Shadow Gray</td>\n",
              "      <td>64 GB</td>\n",
              "      <td>4.4</td>\n",
              "      <td>9599</td>\n",
              "    </tr>\n",
              "    <tr>\n",
              "      <th>4</th>\n",
              "      <td>realme C25Y</td>\n",
              "      <td>Glacier Blue</td>\n",
              "      <td>64 GB</td>\n",
              "      <td>4.5</td>\n",
              "      <td>10999</td>\n",
              "    </tr>\n",
              "    <tr>\n",
              "      <th>5</th>\n",
              "      <td>realme C35</td>\n",
              "      <td>Glowing Black</td>\n",
              "      <td>64 GB</td>\n",
              "      <td>4.4</td>\n",
              "      <td>11999</td>\n",
              "    </tr>\n",
              "    <tr>\n",
              "      <th>...</th>\n",
              "      <td>...</td>\n",
              "      <td>...</td>\n",
              "      <td>...</td>\n",
              "      <td>...</td>\n",
              "      <td>...</td>\n",
              "    </tr>\n",
              "    <tr>\n",
              "      <th>413</th>\n",
              "      <td>SAMSUNG Galaxy J6</td>\n",
              "      <td>Blue</td>\n",
              "      <td>64 GB</td>\n",
              "      <td>4.5</td>\n",
              "      <td>9490</td>\n",
              "    </tr>\n",
              "    <tr>\n",
              "      <th>414</th>\n",
              "      <td>Infinix Hot 9</td>\n",
              "      <td>Violet</td>\n",
              "      <td>64 GB</td>\n",
              "      <td>4.4</td>\n",
              "      <td>11999</td>\n",
              "    </tr>\n",
              "    <tr>\n",
              "      <th>416</th>\n",
              "      <td>Redmi Note 5</td>\n",
              "      <td>Black</td>\n",
              "      <td>64 GB</td>\n",
              "      <td>4.4</td>\n",
              "      <td>11999</td>\n",
              "    </tr>\n",
              "    <tr>\n",
              "      <th>418</th>\n",
              "      <td>Infinix Smart 4 Plus</td>\n",
              "      <td>Midnight Black</td>\n",
              "      <td>32 GB</td>\n",
              "      <td>4.4</td>\n",
              "      <td>9999</td>\n",
              "    </tr>\n",
              "    <tr>\n",
              "      <th>419</th>\n",
              "      <td>vivo Y81</td>\n",
              "      <td>Gold</td>\n",
              "      <td>32 GB</td>\n",
              "      <td>4.4</td>\n",
              "      <td>13000</td>\n",
              "    </tr>\n",
              "  </tbody>\n",
              "</table>\n",
              "<p>167 rows × 5 columns</p>\n",
              "</div>\n",
              "      <button class=\"colab-df-convert\" onclick=\"convertToInteractive('df-b34d857e-9153-4209-804f-31229e3dddfd')\"\n",
              "              title=\"Convert this dataframe to an interactive table.\"\n",
              "              style=\"display:none;\">\n",
              "        \n",
              "  <svg xmlns=\"http://www.w3.org/2000/svg\" height=\"24px\"viewBox=\"0 0 24 24\"\n",
              "       width=\"24px\">\n",
              "    <path d=\"M0 0h24v24H0V0z\" fill=\"none\"/>\n",
              "    <path d=\"M18.56 5.44l.94 2.06.94-2.06 2.06-.94-2.06-.94-.94-2.06-.94 2.06-2.06.94zm-11 1L8.5 8.5l.94-2.06 2.06-.94-2.06-.94L8.5 2.5l-.94 2.06-2.06.94zm10 10l.94 2.06.94-2.06 2.06-.94-2.06-.94-.94-2.06-.94 2.06-2.06.94z\"/><path d=\"M17.41 7.96l-1.37-1.37c-.4-.4-.92-.59-1.43-.59-.52 0-1.04.2-1.43.59L10.3 9.45l-7.72 7.72c-.78.78-.78 2.05 0 2.83L4 21.41c.39.39.9.59 1.41.59.51 0 1.02-.2 1.41-.59l7.78-7.78 2.81-2.81c.8-.78.8-2.07 0-2.86zM5.41 20L4 18.59l7.72-7.72 1.47 1.35L5.41 20z\"/>\n",
              "  </svg>\n",
              "      </button>\n",
              "      \n",
              "  <style>\n",
              "    .colab-df-container {\n",
              "      display:flex;\n",
              "      flex-wrap:wrap;\n",
              "      gap: 12px;\n",
              "    }\n",
              "\n",
              "    .colab-df-convert {\n",
              "      background-color: #E8F0FE;\n",
              "      border: none;\n",
              "      border-radius: 50%;\n",
              "      cursor: pointer;\n",
              "      display: none;\n",
              "      fill: #1967D2;\n",
              "      height: 32px;\n",
              "      padding: 0 0 0 0;\n",
              "      width: 32px;\n",
              "    }\n",
              "\n",
              "    .colab-df-convert:hover {\n",
              "      background-color: #E2EBFA;\n",
              "      box-shadow: 0px 1px 2px rgba(60, 64, 67, 0.3), 0px 1px 3px 1px rgba(60, 64, 67, 0.15);\n",
              "      fill: #174EA6;\n",
              "    }\n",
              "\n",
              "    [theme=dark] .colab-df-convert {\n",
              "      background-color: #3B4455;\n",
              "      fill: #D2E3FC;\n",
              "    }\n",
              "\n",
              "    [theme=dark] .colab-df-convert:hover {\n",
              "      background-color: #434B5C;\n",
              "      box-shadow: 0px 1px 3px 1px rgba(0, 0, 0, 0.15);\n",
              "      filter: drop-shadow(0px 1px 2px rgba(0, 0, 0, 0.3));\n",
              "      fill: #FFFFFF;\n",
              "    }\n",
              "  </style>\n",
              "\n",
              "      <script>\n",
              "        const buttonEl =\n",
              "          document.querySelector('#df-b34d857e-9153-4209-804f-31229e3dddfd button.colab-df-convert');\n",
              "        buttonEl.style.display =\n",
              "          google.colab.kernel.accessAllowed ? 'block' : 'none';\n",
              "\n",
              "        async function convertToInteractive(key) {\n",
              "          const element = document.querySelector('#df-b34d857e-9153-4209-804f-31229e3dddfd');\n",
              "          const dataTable =\n",
              "            await google.colab.kernel.invokeFunction('convertToInteractive',\n",
              "                                                     [key], {});\n",
              "          if (!dataTable) return;\n",
              "\n",
              "          const docLinkHtml = 'Like what you see? Visit the ' +\n",
              "            '<a target=\"_blank\" href=https://colab.research.google.com/notebooks/data_table.ipynb>data table notebook</a>'\n",
              "            + ' to learn more about interactive tables.';\n",
              "          element.innerHTML = '';\n",
              "          dataTable['output_type'] = 'display_data';\n",
              "          await google.colab.output.renderOutput(dataTable, element);\n",
              "          const docLink = document.createElement('div');\n",
              "          docLink.innerHTML = docLinkHtml;\n",
              "          element.appendChild(docLink);\n",
              "        }\n",
              "      </script>\n",
              "    </div>\n",
              "  </div>\n",
              "  "
            ],
            "text/plain": [
              "               Mobile Name           Color Storage  Rating  Price\n",
              "0                POCO C31       Royal Blue   64 GB     4.4   9499\n",
              "1          REDMI 9i Sport    Metallic Blue   64 GB     4.4   8999\n",
              "3                POCO C31      Shadow Gray   64 GB     4.4   9599\n",
              "4             realme C25Y     Glacier Blue   64 GB     4.5  10999\n",
              "5              realme C35    Glowing Black   64 GB     4.4  11999\n",
              "..                     ...             ...     ...     ...    ...\n",
              "413     SAMSUNG Galaxy J6             Blue   64 GB     4.5   9490\n",
              "414         Infinix Hot 9           Violet   64 GB     4.4  11999\n",
              "416          Redmi Note 5            Black   64 GB     4.4  11999\n",
              "418  Infinix Smart 4 Plus   Midnight Black   32 GB     4.4   9999\n",
              "419              vivo Y81             Gold   32 GB     4.4  13000\n",
              "\n",
              "[167 rows x 5 columns]"
            ]
          },
          "execution_count": 27,
          "metadata": {},
          "output_type": "execute_result"
        }
      ],
      "source": [
        "mobiledf[mobiledf['Rating']>4.3]"
      ]
    },
    {
      "cell_type": "markdown",
      "metadata": {
        "id": "RK54aEYt2qGQ"
      },
      "source": [
        "Creating a CSV file with the data we scarpped"
      ]
    },
    {
      "cell_type": "code",
      "execution_count": null,
      "metadata": {
        "id": "xBzJxJPE2p2X"
      },
      "outputs": [],
      "source": [
        "pd = pandas.DataFrame(mobiledf)\n",
        "pd.to_csv(\"MobileList.csv\")"
      ]
    }
  ],
  "metadata": {
    "colab": {
      "collapsed_sections": [],
      "name": "AbdulWahid PD CA-2.ipynb",
      "provenance": []
    },
    "kernelspec": {
      "display_name": "Python 3.10.5 64-bit",
      "language": "python",
      "name": "python3"
    },
    "language_info": {
      "name": "python",
      "version": "3.10.5"
    },
    "vscode": {
      "interpreter": {
        "hash": "4eed1de08fe0fbc828f03cfcd1bfee2a4e019c02b612e5ecef15962771d029c2"
      }
    }
  },
  "nbformat": 4,
  "nbformat_minor": 0
}
